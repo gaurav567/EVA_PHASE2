{
  "nbformat": 4,
  "nbformat_minor": 0,
  "metadata": {
    "colab": {
      "name": "Phase2-session9 Assignment.ipynb",
      "provenance": [],
      "collapsed_sections": []
    },
    "kernelspec": {
      "name": "python3",
      "display_name": "Python 3"
    }
  },
  "cells": [
    {
      "cell_type": "code",
      "metadata": {
        "id": "HTUcDIA5y9r4",
        "colab_type": "code",
        "colab": {}
      },
      "source": [
        "import os\n",
        "import time\n",
        "import random\n",
        "import numpy as np\n",
        "import matplotlib.pyplot as plt\n",
        "import pybullet_envs\n",
        "import gym\n",
        "import torch\n",
        "import torch.nn as nn\n",
        "import torch.nn.functional as F\n",
        "from gym import wrappers\n",
        "from torch.autograd import Variable\n",
        "from collections import deque"
      ],
      "execution_count": 0,
      "outputs": []
    },
    {
      "cell_type": "code",
      "metadata": {
        "id": "dm9QFuOO1AYa",
        "colab_type": "code",
        "colab": {}
      },
      "source": [
        "class ReplayBuffer(object):\n",
        "def __init__(self, max_size = 1e6):\n",
        "    self.storage = []\n",
        "    self.max_size = max_size\n",
        "    self.ptr = 0\n",
        "def add(self, transition):\n",
        "if len(self.storage) == self.max_size:\n",
        "    self.storage[int(self.ptr)] = transition\n",
        "    self.ptr = (self.ptr + 1) % self.max_size\n",
        "else:\n",
        "    self.storage.append(transition)\n",
        "def sample(self, batch_size):\n",
        "    ind = np.random.randint(0, len(self.storage), batch_size)\n",
        "    batch_states, batch_next_states, batch_actions, batch_rewards, \\\n",
        "    batch_dones = [], [], [], [], []\n",
        "for i in ind:\n",
        "state, next_state, action, reward, done = self.storage[i]\n",
        "batch_states.append(np.array(state, copy = False))\n",
        "batch_next_states.append(np.array(next_state, copy = False))\n",
        "batch_actions.append(np.array(action, copy = False))\n",
        "batch_rewards.append(np.array(reward, copy = False))\n",
        "batch_dones.append(np.array(done, copy = False))\n",
        "return np.array(batch_states), np.array(batch_next_states), \\\n",
        "np.array(batch_actions), np.array(batch_rewards).reshape(-1, 1), \\\n",
        "np.array(batch_dones).reshape(-1, 1)"
      ],
      "execution_count": 0,
      "outputs": []
    },
    {
      "cell_type": "code",
      "metadata": {
        "id": "UNi-04d51Al8",
        "colab_type": "code",
        "colab": {}
      },
      "source": [
        "class Actor(nn.Module):\n",
        "\n",
        "def _init__(self, state_dims, action_dim, max_action):\n",
        "#max action is te clip in case we gdded too much maise\n",
        "super(Actor, self). init__() # activate the inheritance\n",
        "self.layer_1 = nn.Linear(state_dims, 400)\n",
        "self.layer_2 = nn.Linear(400, 300)\n",
        "self.layer_3 = nn.Linear(300, action_dim)\n",
        "self.max_action = max_action\n",
        "\n",
        "def forward(self, x):\n",
        "x = F.relu(self.layer_1(x))\n",
        "x = F.relu(self.layer_2(x))\n",
        "x = self.max_action * torch.tanh(self.layer_3(x))\n",
        "return (x)"
      ],
      "execution_count": 0,
      "outputs": []
    },
    {
      "cell_type": "code",
      "metadata": {
        "id": "VSRNyKJp1Ase",
        "colab_type": "code",
        "colab": {}
      },
      "source": [
        "class Critic(nn.Module):\n",
        "\n",
        "def _init_ (self, state_dims, action_dim):\n",
        "#max_actton ts to clip tn case we added too much natse\n",
        "super(Critic, self). init__() # activate the inheritance\n",
        "# First Critic Networr\n",
        "self.layer_1 = nn.Linear(state_dims + action_dim, 400)\n",
        "self.layer_2 = nn.Linear(400, 300)\n",
        "self.layer_3 = nn.Linear(30@, action_dim)\n",
        "# Second Critic Network\n",
        "self.layer_4 = nn.Linear(state_dims + action_dim, 400)\n",
        "self.layer_5 = nn.Linear(400, 300)\n",
        "self.layer_6 = nn.Linear(30@, action_dim)\n",
        "\n",
        "def forward(self, x, u}: # x - state, u = actian\n",
        "xu = torch.cat([x, u], 1) # 1 for vertical concatenation, @ for Hzntl\n",
        "# forward propagation on first Critic\n",
        "x1 = F.relu(self.layer_1(xu))\n",
        "x1 = F.relu(self.layer_2(x1))\n",
        "x1 = self.layer_3(x1)\n",
        "# forward propagation an second Critic\n",
        "x2 = F.relu(self.layer_4(xu))\n",
        "x2 = F.relu(self.layer_5(x2))\n",
        "x2 = self.layer_6(x2)\n",
        "return x1, x2\n",
        "\n",
        "def Ql(self, x, u): # * - state, u = action This is used far updating the @ values\n",
        "xu = torch.cat([x, u], 1) # 1 for vertical concatenation, @ for Hzntl\n",
        "x1 = F.relu(self.layer_1(xu))\n",
        "x1 = F.relu(self.layer_2(x1))\n",
        "x1 = self.layer_3(x1)\n",
        "return (x1)"
      ],
      "execution_count": 0,
      "outputs": []
    },
    {
      "cell_type": "code",
      "metadata": {
        "id": "rGWIxc1z1AzM",
        "colab_type": "code",
        "colab": {}
      },
      "source": [
        "\n",
        "device = torch.device('cuda’ if torch.cuda.is_available() else ‘cpu’)\n",
        "class T3D(object):\n",
        "def _init__(self, state_dims, action_dim, max_action):\n",
        "# making sure our T3230 class can work with any env\n",
        "self.actor = Actor(state_dims, action_dim, max_action).to(device) # GD\n",
        "self.actor_target = Actor(state_dims, action_dim, max_action).to(device) # Palyak Avg\n",
        "self.actor_target.load_state_dict(self.actor.state dict)\n",
        "# initializing with model weights to keen them same\n",
        "self.actor_optimizer = torch.optim.Adam(self.actor.parameters())\n",
        "self.critic = Critic(state_dims, action_dim).to(device) # G2\n",
        "self.critic_target = critic(state_dims, action_dim).to(device) # Polyar Avg\n",
        "self.critic_target.load_state_dict(self.critic.state dict)\n",
        "# initializing with model weights to keen them same\n",
        "self.critic_optimizer = torch.optim.Adam(self.critic.parameters())\n",
        "self.max_action = max_action\n",
        "def select_action(self, state):\n",
        "state = torch.Tensor(state.reshape(1, -1)).to(device)\n",
        "return self.actor(state).cpu().data.numpy().flatten()\n",
        "# need to canvert to pumpy, remember clipping?"
      ],
      "execution_count": 0,
      "outputs": []
    },
    {
      "cell_type": "code",
      "metadata": {
        "id": "B-42QQ5R1A5y",
        "colab_type": "code",
        "colab": {}
      },
      "source": [
        "def train(self, replay_buffer, iterations, batch _size=100, discount=0.99,\n",
        "tau = 0.005, policy_noise=0.2, noise_clip=0.5, policy _freq=2):\n",
        "for it in range(iterations):\n",
        "# Step 4 We sample fram a baten of transitions (5s, s', a, m) fram memory\n",
        "batch_states, batch_next_states, batch_actions, batch_rewards, batch_dones \\\n",
        "= replay_buffer.sample(batch_size)\n",
        "state = torch.Tensor(batch_states).to(device)\n",
        "next_state = torch.Tensor(batch_next_states).to(device)\n",
        "action = torch.Tensor(batch_actions).to(device)\n",
        "reward = torch.Tensor(batch_rewards).to(device)\n",
        "done = torch.Tensor(batch_dones) .to(device)"
      ],
      "execution_count": 0,
      "outputs": []
    },
    {
      "cell_type": "code",
      "metadata": {
        "id": "BFRMmZZf2LlA",
        "colab_type": "code",
        "colab": {}
      },
      "source": [
        "# Step 5: From the next state s’, the Acter target plays the next acttens a’\n",
        "next_action = self.actor_target.forward(next_state)"
      ],
      "execution_count": 0,
      "outputs": []
    },
    {
      "cell_type": "code",
      "metadata": {
        "id": "oq42IeDj2Lt0",
        "colab_type": "code",
        "colab": {}
      },
      "source": [
        "# Step G: We add Gaussian maise to this next action a’ and we clamp if in a\n",
        "# pange of values supported &y the environment\n",
        "\n",
        "noise = torch.Tensor(batch_actions).data.normal_(0, policy_noise).to(device)\n",
        "noise = noise.clamp(-noise_clip, noise clip)\n",
        "\n",
        "next_action = (next_action + noise).clamp(-self.max_action, self.max_action)"
      ],
      "execution_count": 0,
      "outputs": []
    },
    {
      "cell_type": "code",
      "metadata": {
        "id": "W32WTGqi2L2c",
        "colab_type": "code",
        "colab": {}
      },
      "source": [
        "# Step 7: The two Critic targets take each the couple (s’', @') as input and\n",
        "# return two Q values, Qti(s', a’) and Qt2(s', a’) as outputs\n",
        "target_Ql, target_Q2 = self.critic_target.forward(next_state, next_action)"
      ],
      "execution_count": 0,
      "outputs": []
    },
    {
      "cell_type": "code",
      "metadata": {
        "id": "82-1JY1-2L6b",
        "colab_type": "code",
        "colab": {}
      },
      "source": [
        "# Step 8: We keen the minimum of these two Q-Values\n",
        "target_Q = torch.min(target_Ql, target_Q2)"
      ],
      "execution_count": 0,
      "outputs": []
    },
    {
      "cell_type": "code",
      "metadata": {
        "id": "865-VgUv2MDd",
        "colab_type": "code",
        "colab": {}
      },
      "source": [
        "# Step 9: We get the final target of the two Critic model, which is:\n",
        "\n",
        "# Qt = r + gamma*min(Qti, Qt2)\n",
        "\n",
        "# target_Q = reward + (1 - done) * discount * target_Q\n",
        "\n",
        "# @ = episode not over, 1 = episode over\n",
        "\n",
        "# We can't run the above equation efficiently as some components are in Computational\n",
        "# graphs and some are not. We need to make one minor modification\n",
        "\n",
        "target_Q = reward + ((1 - done) * discount * target_Q).detach()"
      ],
      "execution_count": 0,
      "outputs": []
    },
    {
      "cell_type": "code",
      "metadata": {
        "id": "Ll0dfDde2MH2",
        "colab_type": "code",
        "colab": {}
      },
      "source": [
        "# Step 10: The two critic models take each the couple (s, a),\n",
        "# as input and return two Q Values\n",
        "current_Ql1, current_Q2 = self.critic.forward(state, action)"
      ],
      "execution_count": 0,
      "outputs": []
    },
    {
      "cell_type": "code",
      "metadata": {
        "id": "khoDH9Yj2MNc",
        "colab_type": "code",
        "colab": {}
      },
      "source": [
        "# Step 11: We compute the lass coming from the two Critic models\n",
        "critic_loss = F.mse_loss(current_Ql, target_Q) + F.mse_loss(current_Q2, target_Q)"
      ],
      "execution_count": 0,
      "outputs": []
    },
    {
      "cell_type": "code",
      "metadata": {
        "id": "jyjpVAeF2MAC",
        "colab_type": "code",
        "colab": {}
      },
      "source": [
        "# Step 12: We backpropagate this Critic loss and update the parameters of the two Critic\n",
        "# models with a Adam optimizer\n",
        "\n",
        "self.critic_optimizer.zero_grad() #initializing the gradients to zero\n",
        "critic_loss.backward() # computing the gradients\n",
        "\n",
        "self.critic_optimizer.step() #performing the weight updates"
      ],
      "execution_count": 0,
      "outputs": []
    },
    {
      "cell_type": "code",
      "metadata": {
        "id": "gkkSS9Q72L97",
        "colab_type": "code",
        "colab": {}
      },
      "source": [
        "# Sten 13; Once every two tteratians, we update our Actor model by\n",
        "# performing gradtent ascent on the output of the first critic model\n",
        "if it % policy_freq == Q:\n",
        "\n",
        "# This ts DPG part\n",
        "\n",
        "actor_loss = -(self.critic.Q1(state, self.actor(state)).mean())}\n",
        "\n",
        "self.actor_optimizer.grad_zero()}\n",
        "\n",
        "actor_loss.backward()\n",
        "\n",
        "self.actor_optimizer.step()}"
      ],
      "execution_count": 0,
      "outputs": []
    },
    {
      "cell_type": "code",
      "metadata": {
        "id": "XOIHsR5q2L0u",
        "colab_type": "code",
        "colab": {}
      },
      "source": [
        "# Sten 14; still ance every tha iteractlans, we update the weights of the Actor target\n",
        "\n",
        "# by Polyak averaging\n",
        "\n",
        "for param, target_param in zip(self.actor.parameters(), self.actor_target.parameters()):\n",
        "target_param.data.copy_(tau * param.data + (1 - tau) * target_param.data)"
      ],
      "execution_count": 0,
      "outputs": []
    },
    {
      "cell_type": "code",
      "metadata": {
        "id": "HddkD8uh2LyR",
        "colab_type": "code",
        "colab": {}
      },
      "source": [
        "# Step 15; Still once every two iterations, we update the weights of the Critic target\n",
        "\n",
        "fata) a eT ee ret Mee ere ee aT\n",
        "\n",
        "for param, target_param in zip(self.critic.parameters(), self.critic_target.parameters()):\n",
        "target_param.data.copy_(tau * param.data + (1 - tau) * target_param.data)\n",
        "\n",
        "# 73D is done now!"
      ],
      "execution_count": 0,
      "outputs": []
    }
  ]
}